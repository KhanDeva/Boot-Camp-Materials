{
 "cells": [
  {
   "cell_type": "markdown",
   "id": "b1e1883c",
   "metadata": {},
   "source": [
    "# **Data Understanding and Exploration**"
   ]
  },
  {
   "cell_type": "markdown",
   "id": "effaddf2",
   "metadata": {},
   "source": [
    "Data understandng and exploration is one another important tasks in building predictive model. As it helps to understand three major things about the data set that you have\n",
    "- Format of the data and attributes\n",
    "- Shape and the distribution of the data\n",
    "- Anomalies and outliers in the data\n",
    "\n",
    "Let's see how Python can be used for the data exploration"
   ]
  },
  {
   "cell_type": "code",
   "execution_count": 1,
   "id": "e17844cc",
   "metadata": {},
   "outputs": [],
   "source": [
    "import pandas as pd\n",
    "\n",
    "# import a csv file named 'data.csv'\n",
    "DF_1 = pd.read_csv(\"C:/Users/hansaperera/Documents/DSWork/Projects/Ongoing/BootCamp Data and AI/Data/Week 3 - Data sets/Machineutilization.csv\")"
   ]
  },
  {
   "cell_type": "markdown",
   "id": "3e5c3309",
   "metadata": {},
   "source": [
    "**Describe Data Set**"
   ]
  },
  {
   "cell_type": "code",
   "execution_count": 4,
   "id": "8f0ec9af",
   "metadata": {
    "scrolled": true
   },
   "outputs": [
    {
     "data": {
      "text/html": [
       "<div>\n",
       "<style scoped>\n",
       "    .dataframe tbody tr th:only-of-type {\n",
       "        vertical-align: middle;\n",
       "    }\n",
       "\n",
       "    .dataframe tbody tr th {\n",
       "        vertical-align: top;\n",
       "    }\n",
       "\n",
       "    .dataframe thead th {\n",
       "        text-align: right;\n",
       "    }\n",
       "</style>\n",
       "<table border=\"1\" class=\"dataframe\">\n",
       "  <thead>\n",
       "    <tr style=\"text-align: right;\">\n",
       "      <th></th>\n",
       "      <th>UDI</th>\n",
       "      <th>Air temperature [K]</th>\n",
       "      <th>Process temperature [K]</th>\n",
       "      <th>Rotational speed [rpm]</th>\n",
       "      <th>Torque [Nm]</th>\n",
       "      <th>Tool wear [min]</th>\n",
       "      <th>Machine failure</th>\n",
       "      <th>TWF</th>\n",
       "      <th>HDF</th>\n",
       "      <th>PWF</th>\n",
       "      <th>OSF</th>\n",
       "      <th>RNF</th>\n",
       "    </tr>\n",
       "  </thead>\n",
       "  <tbody>\n",
       "    <tr>\n",
       "      <th>count</th>\n",
       "      <td>10000.00000</td>\n",
       "      <td>10000.000000</td>\n",
       "      <td>10000.000000</td>\n",
       "      <td>10000.000000</td>\n",
       "      <td>10000.000000</td>\n",
       "      <td>10000.000000</td>\n",
       "      <td>10000.000000</td>\n",
       "      <td>10000.000000</td>\n",
       "      <td>10000.000000</td>\n",
       "      <td>10000.000000</td>\n",
       "      <td>10000.000000</td>\n",
       "      <td>10000.00000</td>\n",
       "    </tr>\n",
       "    <tr>\n",
       "      <th>mean</th>\n",
       "      <td>5000.50000</td>\n",
       "      <td>300.004930</td>\n",
       "      <td>310.005560</td>\n",
       "      <td>1538.776100</td>\n",
       "      <td>39.986910</td>\n",
       "      <td>107.951000</td>\n",
       "      <td>0.033900</td>\n",
       "      <td>0.004600</td>\n",
       "      <td>0.011500</td>\n",
       "      <td>0.009500</td>\n",
       "      <td>0.009800</td>\n",
       "      <td>0.00190</td>\n",
       "    </tr>\n",
       "    <tr>\n",
       "      <th>std</th>\n",
       "      <td>2886.89568</td>\n",
       "      <td>2.000259</td>\n",
       "      <td>1.483734</td>\n",
       "      <td>179.284096</td>\n",
       "      <td>9.968934</td>\n",
       "      <td>63.654147</td>\n",
       "      <td>0.180981</td>\n",
       "      <td>0.067671</td>\n",
       "      <td>0.106625</td>\n",
       "      <td>0.097009</td>\n",
       "      <td>0.098514</td>\n",
       "      <td>0.04355</td>\n",
       "    </tr>\n",
       "    <tr>\n",
       "      <th>min</th>\n",
       "      <td>1.00000</td>\n",
       "      <td>295.300000</td>\n",
       "      <td>305.700000</td>\n",
       "      <td>1168.000000</td>\n",
       "      <td>3.800000</td>\n",
       "      <td>0.000000</td>\n",
       "      <td>0.000000</td>\n",
       "      <td>0.000000</td>\n",
       "      <td>0.000000</td>\n",
       "      <td>0.000000</td>\n",
       "      <td>0.000000</td>\n",
       "      <td>0.00000</td>\n",
       "    </tr>\n",
       "    <tr>\n",
       "      <th>25%</th>\n",
       "      <td>2500.75000</td>\n",
       "      <td>298.300000</td>\n",
       "      <td>308.800000</td>\n",
       "      <td>1423.000000</td>\n",
       "      <td>33.200000</td>\n",
       "      <td>53.000000</td>\n",
       "      <td>0.000000</td>\n",
       "      <td>0.000000</td>\n",
       "      <td>0.000000</td>\n",
       "      <td>0.000000</td>\n",
       "      <td>0.000000</td>\n",
       "      <td>0.00000</td>\n",
       "    </tr>\n",
       "    <tr>\n",
       "      <th>50%</th>\n",
       "      <td>5000.50000</td>\n",
       "      <td>300.100000</td>\n",
       "      <td>310.100000</td>\n",
       "      <td>1503.000000</td>\n",
       "      <td>40.100000</td>\n",
       "      <td>108.000000</td>\n",
       "      <td>0.000000</td>\n",
       "      <td>0.000000</td>\n",
       "      <td>0.000000</td>\n",
       "      <td>0.000000</td>\n",
       "      <td>0.000000</td>\n",
       "      <td>0.00000</td>\n",
       "    </tr>\n",
       "    <tr>\n",
       "      <th>75%</th>\n",
       "      <td>7500.25000</td>\n",
       "      <td>301.500000</td>\n",
       "      <td>311.100000</td>\n",
       "      <td>1612.000000</td>\n",
       "      <td>46.800000</td>\n",
       "      <td>162.000000</td>\n",
       "      <td>0.000000</td>\n",
       "      <td>0.000000</td>\n",
       "      <td>0.000000</td>\n",
       "      <td>0.000000</td>\n",
       "      <td>0.000000</td>\n",
       "      <td>0.00000</td>\n",
       "    </tr>\n",
       "    <tr>\n",
       "      <th>max</th>\n",
       "      <td>10000.00000</td>\n",
       "      <td>304.500000</td>\n",
       "      <td>313.800000</td>\n",
       "      <td>2886.000000</td>\n",
       "      <td>76.600000</td>\n",
       "      <td>253.000000</td>\n",
       "      <td>1.000000</td>\n",
       "      <td>1.000000</td>\n",
       "      <td>1.000000</td>\n",
       "      <td>1.000000</td>\n",
       "      <td>1.000000</td>\n",
       "      <td>1.00000</td>\n",
       "    </tr>\n",
       "  </tbody>\n",
       "</table>\n",
       "</div>"
      ],
      "text/plain": [
       "               UDI  Air temperature [K]  Process temperature [K]  \\\n",
       "count  10000.00000         10000.000000             10000.000000   \n",
       "mean    5000.50000           300.004930               310.005560   \n",
       "std     2886.89568             2.000259                 1.483734   \n",
       "min        1.00000           295.300000               305.700000   \n",
       "25%     2500.75000           298.300000               308.800000   \n",
       "50%     5000.50000           300.100000               310.100000   \n",
       "75%     7500.25000           301.500000               311.100000   \n",
       "max    10000.00000           304.500000               313.800000   \n",
       "\n",
       "       Rotational speed [rpm]   Torque [Nm]  Tool wear [min]  Machine failure  \\\n",
       "count            10000.000000  10000.000000     10000.000000     10000.000000   \n",
       "mean              1538.776100     39.986910       107.951000         0.033900   \n",
       "std                179.284096      9.968934        63.654147         0.180981   \n",
       "min               1168.000000      3.800000         0.000000         0.000000   \n",
       "25%               1423.000000     33.200000        53.000000         0.000000   \n",
       "50%               1503.000000     40.100000       108.000000         0.000000   \n",
       "75%               1612.000000     46.800000       162.000000         0.000000   \n",
       "max               2886.000000     76.600000       253.000000         1.000000   \n",
       "\n",
       "                TWF           HDF           PWF           OSF          RNF  \n",
       "count  10000.000000  10000.000000  10000.000000  10000.000000  10000.00000  \n",
       "mean       0.004600      0.011500      0.009500      0.009800      0.00190  \n",
       "std        0.067671      0.106625      0.097009      0.098514      0.04355  \n",
       "min        0.000000      0.000000      0.000000      0.000000      0.00000  \n",
       "25%        0.000000      0.000000      0.000000      0.000000      0.00000  \n",
       "50%        0.000000      0.000000      0.000000      0.000000      0.00000  \n",
       "75%        0.000000      0.000000      0.000000      0.000000      0.00000  \n",
       "max        1.000000      1.000000      1.000000      1.000000      1.00000  "
      ]
     },
     "execution_count": 4,
     "metadata": {},
     "output_type": "execute_result"
    }
   ],
   "source": [
    "DF_1.describe()"
   ]
  },
  {
   "cell_type": "markdown",
   "id": "412a9163",
   "metadata": {},
   "source": [
    "- Count - Shows the number of rows in the data set\n",
    "- Mean - It is the avearge of the data set. Mean is an important descripitive statistics to get an understanding about the data set given that the data set is not skewed\n",
    "- std - This is the Standarad Deviation. This mesuare gives an understanding about how the data is dispersed abround the mean.\n",
    "- min - Minimum value of the data set\n",
    "- 25% - It is the 25th percentile when the data is arranged to an ascending order. \n",
    "- 50% - It is the 50th percentile when the data is arranged to an ascending order. Also known as the mid term of the data set\n",
    "- 75% - It is the 75th percentile when the data is arranged to an ascending order.\n",
    "- max - Maximum value of the data set"
   ]
  },
  {
   "cell_type": "markdown",
   "id": "d5c202b5",
   "metadata": {},
   "source": [
    "These values are a valuable representation of the data set. But to perform a deep exploration of the data there are many more things that need to be done.\n",
    "Data can be easily categorized into two types\n",
    "- **Quantitative Data** - It is numerical data that can be measured and expressed using numbers. It is a type of data that deals with quantities or amounts, and is often associated with statistics and mathematical analysis. Quantitative data is typically collected through structured research methods such as surveys or experiments, and can be analyzed using statistical techniques. Quantitative data can be again divided into two categories as follows\n",
    "    - **_Interval Data_** - Interval data are the data which are numerical but there is no true zero point. This means that values can be added, subtracted, and compared, but multiplication or division of values is not meaningful.\n",
    "    - **_Ratio Data_** - that represents numerical values with equal intervals between them, and has a true zero point. This means that values can be added, subtracted, multiplied, and divided in meaningful ways. The true zero point represents an absence of the quantity being measured, making it possible to compare ratios between values.\n",
    "    \n",
    "    \n",
    "- **Categorical Data** - is a type of data that describes a qualitative or non-numerical variable. It is data that represents groups or categories and is often represented by words or labels rather than numerical values. Categorical data can be divided into two types: nominal and ordinal data.\n",
    "    - **_Nominal Data_** - Nominal data represents variables that have no order or ranking, and the categories are not numerically related to each other. \n",
    "    - **_Ordinal Data_** - Ordinal data represents variables that have a specific order or ranking, but the difference between the categories is not quantifiable. "
   ]
  },
  {
   "cell_type": "markdown",
   "id": "522b918a",
   "metadata": {},
   "source": [
    "Based on the data types the analysis can be varied. In the process of data exploration we follow the following procedure.\n",
    "1. Understanding of data and attributes\n",
    "    - Attributes - Name of the field that represent data\n",
    "    - Rows - Total number of rows in the data set\n",
    "    - Columns - Total number of attributes or fields in the data set\n",
    "    - Missing values - Missing values are the values either not recorded or not available. They can be seen as either empty, NA or NULL etc.\n",
    "    \n",
    "\n",
    "2. Understand the **descripitive measures** for the data\n",
    "\n",
    "\n",
    "_**Quantitative data**_\n",
    "- _**Measures of Descripitives**_ \n",
    "    - Mean - Average value of the data set\n",
    "    - Median - Mid term of the data set\n",
    "    - Mode - Most frequent data point\n",
    "- _**Measures of Skewness**_\n",
    "   - Negative skewed - If the tail of the data set is towards the right hand side of the distribution then it is said to be negatively skewed\n",
    "   - Positively skewed - If the tail of the data set is towards the left hand side of the distribution then it is said to be positively skewed\n",
    "- _**Measures of kurtosis**_\n",
    "   - Leptokurtic - A distribution that has a higher peak and heavier tails than a normal distribution\n",
    "   - Platykurtic - A distribution that has a lower peak and lighter tails than a normal distribution.\n",
    "   \n",
    "_**Qualitative data**_\n",
    "- Frequencies - Identification of counts\n",
    "- Percentage - Identification of percentages\n",
    "- Cross Tabulation - Pivoting for cross evaluation of groups \n",
    "\n",
    "3.Understand the correlations between attributes\n",
    "For the quantitative variables "
   ]
  },
  {
   "cell_type": "markdown",
   "id": "82ec8590",
   "metadata": {},
   "source": [
    "**Use of build libraries in Python for data profiling and exploration**"
   ]
  },
  {
   "cell_type": "code",
   "execution_count": 5,
   "id": "85cefc32",
   "metadata": {},
   "outputs": [],
   "source": [
    "import pandas_profiling\n",
    "profile = DF_1.profile_report(title='Pandas Profiling Report')\n"
   ]
  },
  {
   "cell_type": "code",
   "execution_count": 6,
   "id": "86534a2d",
   "metadata": {},
   "outputs": [
    {
     "data": {
      "application/vnd.jupyter.widget-view+json": {
       "model_id": "d0fae60e654549e9a220c0aeae794291",
       "version_major": 2,
       "version_minor": 0
      },
      "text/plain": [
       "Tab(children=(HTML(value='<div id=\"overview-content\" class=\"row variable spacing\">\\n    <div class=\"row\">\\n   …"
      ]
     },
     "metadata": {},
     "output_type": "display_data"
    },
    {
     "data": {
      "text/html": [
       "Report generated with <a href=\"https://github.com/pandas-profiling/pandas-profiling\">pandas-profiling</a>."
      ],
      "text/plain": [
       "<IPython.core.display.HTML object>"
      ]
     },
     "metadata": {},
     "output_type": "display_data"
    },
    {
     "data": {
      "text/plain": []
     },
     "execution_count": 6,
     "metadata": {},
     "output_type": "execute_result"
    }
   ],
   "source": [
    "profile"
   ]
  },
  {
   "cell_type": "code",
   "execution_count": 8,
   "id": "6e8f29da",
   "metadata": {},
   "outputs": [
    {
     "data": {
      "application/vnd.jupyter.widget-view+json": {
       "model_id": "14cf76539cf74cac98abc9390e8f54c8",
       "version_major": 2,
       "version_minor": 0
      },
      "text/plain": [
       "                                             |          | [  0%]   00:00 -> (? left)"
      ]
     },
     "metadata": {},
     "output_type": "display_data"
    }
   ],
   "source": [
    "import sweetviz as sv\n",
    "report = sv.analyze(DF_1)\n"
   ]
  },
  {
   "cell_type": "code",
   "execution_count": 12,
   "id": "e5352e4d",
   "metadata": {},
   "outputs": [
    {
     "name": "stdout",
     "output_type": "stream",
     "text": [
      "Report C:/Users/hansaperera/Documents/DSWork/Projects/Ongoing/BootCamp Data and AI/Data/report.html was generated! NOTEBOOK/COLAB USERS: the web browser MAY not pop up, regardless, the report IS saved in your notebook/colab files.\n"
     ]
    }
   ],
   "source": [
    "report.show_html('C:/Users/hansaperera/Documents/DSWork/Projects/Ongoing/BootCamp Data and AI/Data/report.html')"
   ]
  },
  {
   "cell_type": "markdown",
   "id": "773e17cb",
   "metadata": {},
   "source": [
    "**Cross Tabulation with Python**"
   ]
  },
  {
   "cell_type": "code",
   "execution_count": 17,
   "id": "a87ee61d",
   "metadata": {},
   "outputs": [
    {
     "data": {
      "text/html": [
       "<div>\n",
       "<style scoped>\n",
       "    .dataframe tbody tr th:only-of-type {\n",
       "        vertical-align: middle;\n",
       "    }\n",
       "\n",
       "    .dataframe tbody tr th {\n",
       "        vertical-align: top;\n",
       "    }\n",
       "\n",
       "    .dataframe thead th {\n",
       "        text-align: right;\n",
       "    }\n",
       "</style>\n",
       "<table border=\"1\" class=\"dataframe\">\n",
       "  <thead>\n",
       "    <tr style=\"text-align: right;\">\n",
       "      <th>Type</th>\n",
       "      <th>H</th>\n",
       "      <th>L</th>\n",
       "      <th>M</th>\n",
       "    </tr>\n",
       "    <tr>\n",
       "      <th>Machine_failure</th>\n",
       "      <th></th>\n",
       "      <th></th>\n",
       "      <th></th>\n",
       "    </tr>\n",
       "  </thead>\n",
       "  <tbody>\n",
       "    <tr>\n",
       "      <th>0</th>\n",
       "      <td>0.979063</td>\n",
       "      <td>0.960833</td>\n",
       "      <td>0.972306</td>\n",
       "    </tr>\n",
       "    <tr>\n",
       "      <th>1</th>\n",
       "      <td>0.020937</td>\n",
       "      <td>0.039167</td>\n",
       "      <td>0.027694</td>\n",
       "    </tr>\n",
       "  </tbody>\n",
       "</table>\n",
       "</div>"
      ],
      "text/plain": [
       "Type                    H         L         M\n",
       "Machine_failure                              \n",
       "0                0.979063  0.960833  0.972306\n",
       "1                0.020937  0.039167  0.027694"
      ]
     },
     "execution_count": 17,
     "metadata": {},
     "output_type": "execute_result"
    }
   ],
   "source": [
    "cross_tab = pd.crosstab(DF_1['Machine_failure'], [DF_1['Type']],normalize='columns')\n",
    "cross_tab"
   ]
  },
  {
   "cell_type": "code",
   "execution_count": 19,
   "id": "866c5f04",
   "metadata": {},
   "outputs": [
    {
     "data": {
      "text/html": [
       "<div>\n",
       "<style scoped>\n",
       "    .dataframe tbody tr th:only-of-type {\n",
       "        vertical-align: middle;\n",
       "    }\n",
       "\n",
       "    .dataframe tbody tr th {\n",
       "        vertical-align: top;\n",
       "    }\n",
       "\n",
       "    .dataframe thead th {\n",
       "        text-align: right;\n",
       "    }\n",
       "</style>\n",
       "<table border=\"1\" class=\"dataframe\">\n",
       "  <thead>\n",
       "    <tr style=\"text-align: right;\">\n",
       "      <th>Type</th>\n",
       "      <th>H</th>\n",
       "      <th>L</th>\n",
       "      <th>M</th>\n",
       "    </tr>\n",
       "    <tr>\n",
       "      <th>Machine_failure</th>\n",
       "      <th></th>\n",
       "      <th></th>\n",
       "      <th></th>\n",
       "    </tr>\n",
       "  </thead>\n",
       "  <tbody>\n",
       "    <tr>\n",
       "      <th>0</th>\n",
       "      <td>0.101646</td>\n",
       "      <td>0.596729</td>\n",
       "      <td>0.301625</td>\n",
       "    </tr>\n",
       "    <tr>\n",
       "      <th>1</th>\n",
       "      <td>0.061947</td>\n",
       "      <td>0.693215</td>\n",
       "      <td>0.244838</td>\n",
       "    </tr>\n",
       "  </tbody>\n",
       "</table>\n",
       "</div>"
      ],
      "text/plain": [
       "Type                    H         L         M\n",
       "Machine_failure                              \n",
       "0                0.101646  0.596729  0.301625\n",
       "1                0.061947  0.693215  0.244838"
      ]
     },
     "execution_count": 19,
     "metadata": {},
     "output_type": "execute_result"
    }
   ],
   "source": [
    "cross_tab = pd.crosstab(DF_1['Machine_failure'], [DF_1['Type']],normalize='index')\n",
    "cross_tab"
   ]
  },
  {
   "cell_type": "code",
   "execution_count": 21,
   "id": "920bc7ea",
   "metadata": {},
   "outputs": [
    {
     "data": {
      "text/html": [
       "<div>\n",
       "<style scoped>\n",
       "    .dataframe tbody tr th:only-of-type {\n",
       "        vertical-align: middle;\n",
       "    }\n",
       "\n",
       "    .dataframe tbody tr th {\n",
       "        vertical-align: top;\n",
       "    }\n",
       "\n",
       "    .dataframe thead th {\n",
       "        text-align: right;\n",
       "    }\n",
       "</style>\n",
       "<table border=\"1\" class=\"dataframe\">\n",
       "  <thead>\n",
       "    <tr style=\"text-align: right;\">\n",
       "      <th>Type</th>\n",
       "      <th>H</th>\n",
       "      <th>L</th>\n",
       "      <th>M</th>\n",
       "    </tr>\n",
       "    <tr>\n",
       "      <th>Machine_failure</th>\n",
       "      <th></th>\n",
       "      <th></th>\n",
       "      <th></th>\n",
       "    </tr>\n",
       "  </thead>\n",
       "  <tbody>\n",
       "    <tr>\n",
       "      <th>0</th>\n",
       "      <td>0.0982</td>\n",
       "      <td>0.5765</td>\n",
       "      <td>0.2914</td>\n",
       "    </tr>\n",
       "    <tr>\n",
       "      <th>1</th>\n",
       "      <td>0.0021</td>\n",
       "      <td>0.0235</td>\n",
       "      <td>0.0083</td>\n",
       "    </tr>\n",
       "  </tbody>\n",
       "</table>\n",
       "</div>"
      ],
      "text/plain": [
       "Type                  H       L       M\n",
       "Machine_failure                        \n",
       "0                0.0982  0.5765  0.2914\n",
       "1                0.0021  0.0235  0.0083"
      ]
     },
     "execution_count": 21,
     "metadata": {},
     "output_type": "execute_result"
    }
   ],
   "source": [
    "cross_tab = pd.crosstab(DF_1['Machine_failure'], [DF_1['Type']],normalize=True)\n",
    "cross_tab"
   ]
  }
 ],
 "metadata": {
  "kernelspec": {
   "display_name": "Python 3 (ipykernel)",
   "language": "python",
   "name": "python3"
  },
  "language_info": {
   "codemirror_mode": {
    "name": "ipython",
    "version": 3
   },
   "file_extension": ".py",
   "mimetype": "text/x-python",
   "name": "python",
   "nbconvert_exporter": "python",
   "pygments_lexer": "ipython3",
   "version": "3.9.12"
  }
 },
 "nbformat": 4,
 "nbformat_minor": 5
}
